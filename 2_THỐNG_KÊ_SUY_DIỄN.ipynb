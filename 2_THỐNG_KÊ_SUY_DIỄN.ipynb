{
  "nbformat": 4,
  "nbformat_minor": 0,
  "metadata": {
    "colab": {
      "name": "2. THỐNG KÊ SUY DIỄN.ipynb",
      "provenance": [],
      "mount_file_id": "1qQswcUjeaYYzPBScUdyflzVgW6XIP1-7",
      "authorship_tag": "ABX9TyMX0qhH/KAqS2ZyGbzBwdmP",
      "include_colab_link": true
    },
    "kernelspec": {
      "name": "python3",
      "display_name": "Python 3"
    },
    "language_info": {
      "name": "python"
    }
  },
  "cells": [
    {
      "cell_type": "markdown",
      "metadata": {
        "id": "view-in-github",
        "colab_type": "text"
      },
      "source": [
        "<a href=\"https://colab.research.google.com/github/NhuY26/CODE-N-HK2/blob/main/2_TH%E1%BB%90NG_K%C3%8A_SUY_DI%E1%BB%84N.ipynb\" target=\"_parent\"><img src=\"https://colab.research.google.com/assets/colab-badge.svg\" alt=\"Open In Colab\"/></a>"
      ]
    },
    {
      "cell_type": "code",
      "execution_count": 1,
      "metadata": {
        "colab": {
          "base_uri": "https://localhost:8080/"
        },
        "id": "syVQGLXEu_Gx",
        "outputId": "524a7d5b-6189-404b-f230-340d925e5258"
      },
      "outputs": [
        {
          "output_type": "stream",
          "name": "stderr",
          "text": [
            "/usr/local/lib/python3.7/dist-packages/statsmodels/tools/_testing.py:19: FutureWarning: pandas.util.testing is deprecated. Use the functions in the public API at pandas.testing instead.\n",
            "  import pandas.util.testing as tm\n"
          ]
        }
      ],
      "source": [
        "#Các thư viện cần thiết \n",
        "\n",
        "\n",
        "import pandas as pd  \n",
        "import matplotlib.pyplot as plt  \n",
        "import statsmodels.api as sm  \n",
        "from statsmodels.formula.api import ols  \n",
        "import seaborn as sns  \n",
        "import numpy as np  \n",
        "from scipy import stats\n",
        "import scipy.stats as st"
      ]
    },
    {
      "cell_type": "code",
      "source": [
        "mydata = pd.read_csv(\"/content/drive/MyDrive/ĐỒ ÁN PYTHON HK2 (2022)/Diet_R.csv\")"
      ],
      "metadata": {
        "id": "vu5BDu1WvNRd"
      },
      "execution_count": 3,
      "outputs": []
    },
    {
      "cell_type": "code",
      "source": [
        "#Hiển thị dữ liệu:\n",
        "\n",
        "print(mydata.head())  \n"
      ],
      "metadata": {
        "colab": {
          "base_uri": "https://localhost:8080/"
        },
        "id": "mbNTjC3lvgBk",
        "outputId": "6778b1e6-8546-40d3-fa39-05578babba49"
      },
      "execution_count": 4,
      "outputs": [
        {
          "output_type": "stream",
          "name": "stdout",
          "text": [
            "   Person gender  Age  Height  pre.weight  Diet  weight6weeks\n",
            "0      25          41     171          60     2          60.0\n",
            "1      26          32     174         103     2         103.0\n",
            "2       1      0   22     159          58     1          54.2\n",
            "3       2      0   46     192          60     1          54.0\n",
            "4       3      0   55     170          64     1          63.3\n"
          ]
        }
      ]
    },
    {
      "cell_type": "code",
      "source": [
        "#Tổng số dữ liệu:\n",
        "\n",
        "print('The total number of rows in the dataset:', mydata.size)  "
      ],
      "metadata": {
        "colab": {
          "base_uri": "https://localhost:8080/"
        },
        "id": "uku4r8ZUvibl",
        "outputId": "92f4e66b-67c0-4f9f-8276-1826937f5046"
      },
      "execution_count": 5,
      "outputs": [
        {
          "output_type": "stream",
          "name": "stdout",
          "text": [
            "The total number of rows in the dataset: 546\n"
          ]
        }
      ]
    },
    {
      "cell_type": "code",
      "source": [
        "#Tổng phần trăm giá trị dữ liệu bị thiếu:\n",
        "\n",
        "print('Percentage of missing values in the dataset: {:.2f}%'.format(mydata[mydata.gender == ' '].size / mydata.size * 100))  "
      ],
      "metadata": {
        "colab": {
          "base_uri": "https://localhost:8080/"
        },
        "id": "-UYzvcPTvqdk",
        "outputId": "1560feaf-17e3-48f6-b39f-cec0414c84ba"
      },
      "execution_count": 6,
      "outputs": [
        {
          "output_type": "stream",
          "name": "stdout",
          "text": [
            "Percentage of missing values in the dataset: 2.56%\n"
          ]
        }
      ]
    },
    {
      "cell_type": "code",
      "source": [
        "#Kiểm tra các giá trị còn thiếu:\n",
        "\n",
        "print(mydata.gender.unique())   \n",
        "print(mydata[mydata.gender == ' '])"
      ],
      "metadata": {
        "colab": {
          "base_uri": "https://localhost:8080/"
        },
        "id": "cKIp9az2vsB4",
        "outputId": "62c58d99-2934-4dd3-8cf6-82ea739e5b27"
      },
      "execution_count": 7,
      "outputs": [
        {
          "output_type": "stream",
          "name": "stdout",
          "text": [
            "[' ' '0' '1']\n",
            "   Person gender  Age  Height  pre.weight  Diet  weight6weeks\n",
            "0      25          41     171          60     2          60.0\n",
            "1      26          32     174         103     2         103.0\n"
          ]
        }
      ]
    },
    {
      "cell_type": "code",
      "source": [
        "mydata.describe()"
      ],
      "metadata": {
        "colab": {
          "base_uri": "https://localhost:8080/",
          "height": 300
        },
        "id": "DU-SDfO8vvML",
        "outputId": "4a237b11-3ae2-47e4-d346-8af694f063e4"
      },
      "execution_count": 8,
      "outputs": [
        {
          "output_type": "execute_result",
          "data": {
            "text/plain": [
              "          Person        Age      Height  pre.weight       Diet  weight6weeks\n",
              "count  78.000000  78.000000   78.000000   78.000000  78.000000     78.000000\n",
              "mean   39.500000  39.153846  170.820513   72.525641   2.038462     68.680769\n",
              "std    22.660538   9.815277   11.276621    8.723344   0.812920      8.924504\n",
              "min     1.000000  16.000000  141.000000   58.000000   1.000000     53.000000\n",
              "25%    20.250000  32.250000  164.250000   66.000000   1.000000     61.850000\n",
              "50%    39.500000  39.000000  169.500000   72.000000   2.000000     68.950000\n",
              "75%    58.750000  46.750000  174.750000   78.000000   3.000000     73.825000\n",
              "max    78.000000  60.000000  201.000000  103.000000   3.000000    103.000000"
            ],
            "text/html": [
              "\n",
              "  <div id=\"df-a45c2e52-5d65-4c3e-8d9c-527a8affb3bc\">\n",
              "    <div class=\"colab-df-container\">\n",
              "      <div>\n",
              "<style scoped>\n",
              "    .dataframe tbody tr th:only-of-type {\n",
              "        vertical-align: middle;\n",
              "    }\n",
              "\n",
              "    .dataframe tbody tr th {\n",
              "        vertical-align: top;\n",
              "    }\n",
              "\n",
              "    .dataframe thead th {\n",
              "        text-align: right;\n",
              "    }\n",
              "</style>\n",
              "<table border=\"1\" class=\"dataframe\">\n",
              "  <thead>\n",
              "    <tr style=\"text-align: right;\">\n",
              "      <th></th>\n",
              "      <th>Person</th>\n",
              "      <th>Age</th>\n",
              "      <th>Height</th>\n",
              "      <th>pre.weight</th>\n",
              "      <th>Diet</th>\n",
              "      <th>weight6weeks</th>\n",
              "    </tr>\n",
              "  </thead>\n",
              "  <tbody>\n",
              "    <tr>\n",
              "      <th>count</th>\n",
              "      <td>78.000000</td>\n",
              "      <td>78.000000</td>\n",
              "      <td>78.000000</td>\n",
              "      <td>78.000000</td>\n",
              "      <td>78.000000</td>\n",
              "      <td>78.000000</td>\n",
              "    </tr>\n",
              "    <tr>\n",
              "      <th>mean</th>\n",
              "      <td>39.500000</td>\n",
              "      <td>39.153846</td>\n",
              "      <td>170.820513</td>\n",
              "      <td>72.525641</td>\n",
              "      <td>2.038462</td>\n",
              "      <td>68.680769</td>\n",
              "    </tr>\n",
              "    <tr>\n",
              "      <th>std</th>\n",
              "      <td>22.660538</td>\n",
              "      <td>9.815277</td>\n",
              "      <td>11.276621</td>\n",
              "      <td>8.723344</td>\n",
              "      <td>0.812920</td>\n",
              "      <td>8.924504</td>\n",
              "    </tr>\n",
              "    <tr>\n",
              "      <th>min</th>\n",
              "      <td>1.000000</td>\n",
              "      <td>16.000000</td>\n",
              "      <td>141.000000</td>\n",
              "      <td>58.000000</td>\n",
              "      <td>1.000000</td>\n",
              "      <td>53.000000</td>\n",
              "    </tr>\n",
              "    <tr>\n",
              "      <th>25%</th>\n",
              "      <td>20.250000</td>\n",
              "      <td>32.250000</td>\n",
              "      <td>164.250000</td>\n",
              "      <td>66.000000</td>\n",
              "      <td>1.000000</td>\n",
              "      <td>61.850000</td>\n",
              "    </tr>\n",
              "    <tr>\n",
              "      <th>50%</th>\n",
              "      <td>39.500000</td>\n",
              "      <td>39.000000</td>\n",
              "      <td>169.500000</td>\n",
              "      <td>72.000000</td>\n",
              "      <td>2.000000</td>\n",
              "      <td>68.950000</td>\n",
              "    </tr>\n",
              "    <tr>\n",
              "      <th>75%</th>\n",
              "      <td>58.750000</td>\n",
              "      <td>46.750000</td>\n",
              "      <td>174.750000</td>\n",
              "      <td>78.000000</td>\n",
              "      <td>3.000000</td>\n",
              "      <td>73.825000</td>\n",
              "    </tr>\n",
              "    <tr>\n",
              "      <th>max</th>\n",
              "      <td>78.000000</td>\n",
              "      <td>60.000000</td>\n",
              "      <td>201.000000</td>\n",
              "      <td>103.000000</td>\n",
              "      <td>3.000000</td>\n",
              "      <td>103.000000</td>\n",
              "    </tr>\n",
              "  </tbody>\n",
              "</table>\n",
              "</div>\n",
              "      <button class=\"colab-df-convert\" onclick=\"convertToInteractive('df-a45c2e52-5d65-4c3e-8d9c-527a8affb3bc')\"\n",
              "              title=\"Convert this dataframe to an interactive table.\"\n",
              "              style=\"display:none;\">\n",
              "        \n",
              "  <svg xmlns=\"http://www.w3.org/2000/svg\" height=\"24px\"viewBox=\"0 0 24 24\"\n",
              "       width=\"24px\">\n",
              "    <path d=\"M0 0h24v24H0V0z\" fill=\"none\"/>\n",
              "    <path d=\"M18.56 5.44l.94 2.06.94-2.06 2.06-.94-2.06-.94-.94-2.06-.94 2.06-2.06.94zm-11 1L8.5 8.5l.94-2.06 2.06-.94-2.06-.94L8.5 2.5l-.94 2.06-2.06.94zm10 10l.94 2.06.94-2.06 2.06-.94-2.06-.94-.94-2.06-.94 2.06-2.06.94z\"/><path d=\"M17.41 7.96l-1.37-1.37c-.4-.4-.92-.59-1.43-.59-.52 0-1.04.2-1.43.59L10.3 9.45l-7.72 7.72c-.78.78-.78 2.05 0 2.83L4 21.41c.39.39.9.59 1.41.59.51 0 1.02-.2 1.41-.59l7.78-7.78 2.81-2.81c.8-.78.8-2.07 0-2.86zM5.41 20L4 18.59l7.72-7.72 1.47 1.35L5.41 20z\"/>\n",
              "  </svg>\n",
              "      </button>\n",
              "      \n",
              "  <style>\n",
              "    .colab-df-container {\n",
              "      display:flex;\n",
              "      flex-wrap:wrap;\n",
              "      gap: 12px;\n",
              "    }\n",
              "\n",
              "    .colab-df-convert {\n",
              "      background-color: #E8F0FE;\n",
              "      border: none;\n",
              "      border-radius: 50%;\n",
              "      cursor: pointer;\n",
              "      display: none;\n",
              "      fill: #1967D2;\n",
              "      height: 32px;\n",
              "      padding: 0 0 0 0;\n",
              "      width: 32px;\n",
              "    }\n",
              "\n",
              "    .colab-df-convert:hover {\n",
              "      background-color: #E2EBFA;\n",
              "      box-shadow: 0px 1px 2px rgba(60, 64, 67, 0.3), 0px 1px 3px 1px rgba(60, 64, 67, 0.15);\n",
              "      fill: #174EA6;\n",
              "    }\n",
              "\n",
              "    [theme=dark] .colab-df-convert {\n",
              "      background-color: #3B4455;\n",
              "      fill: #D2E3FC;\n",
              "    }\n",
              "\n",
              "    [theme=dark] .colab-df-convert:hover {\n",
              "      background-color: #434B5C;\n",
              "      box-shadow: 0px 1px 3px 1px rgba(0, 0, 0, 0.15);\n",
              "      filter: drop-shadow(0px 1px 2px rgba(0, 0, 0, 0.3));\n",
              "      fill: #FFFFFF;\n",
              "    }\n",
              "  </style>\n",
              "\n",
              "      <script>\n",
              "        const buttonEl =\n",
              "          document.querySelector('#df-a45c2e52-5d65-4c3e-8d9c-527a8affb3bc button.colab-df-convert');\n",
              "        buttonEl.style.display =\n",
              "          google.colab.kernel.accessAllowed ? 'block' : 'none';\n",
              "\n",
              "        async function convertToInteractive(key) {\n",
              "          const element = document.querySelector('#df-a45c2e52-5d65-4c3e-8d9c-527a8affb3bc');\n",
              "          const dataTable =\n",
              "            await google.colab.kernel.invokeFunction('convertToInteractive',\n",
              "                                                     [key], {});\n",
              "          if (!dataTable) return;\n",
              "\n",
              "          const docLinkHtml = 'Like what you see? Visit the ' +\n",
              "            '<a target=\"_blank\" href=https://colab.research.google.com/notebooks/data_table.ipynb>data table notebook</a>'\n",
              "            + ' to learn more about interactive tables.';\n",
              "          element.innerHTML = '';\n",
              "          dataTable['output_type'] = 'display_data';\n",
              "          await google.colab.output.renderOutput(dataTable, element);\n",
              "          const docLink = document.createElement('div');\n",
              "          docLink.innerHTML = docLinkHtml;\n",
              "          element.appendChild(docLink);\n",
              "        }\n",
              "      </script>\n",
              "    </div>\n",
              "  </div>\n",
              "  "
            ]
          },
          "metadata": {},
          "execution_count": 8
        }
      ]
    },
    {
      "cell_type": "markdown",
      "source": [
        "\n",
        "**Câu hỏi:** chế độ ăn kiêng nào tốt nhất để giảm cân? Dựa vào bảng số liệu nhận thấy có 3 chế độ. Vì vậy cần chia dữ liệu thành các nhóm có liên quan đến 3 chế độ này.\n",
        "\n",
        "Từ các nhóm trên chúng ta sẽ tiến hành phân tích thông kê suy diễn ANOVA một chiều"
      ],
      "metadata": {
        "id": "WkEiHmTAvyo0"
      }
    },
    {
      "cell_type": "code",
      "source": [
        "#Thống kê này trên cơ sở giới tính cũng như chế độ ăn uống:\n",
        "\n",
        "print(mydata.groupby('gender').agg([ np.mean, np.median, np.count_nonzero, np.std ]).weight6weeks) "
      ],
      "metadata": {
        "colab": {
          "base_uri": "https://localhost:8080/"
        },
        "id": "P29bEJWrv0ll",
        "outputId": "69bca2ae-5dc5-4b0c-c9e0-782c1a21c5b4"
      },
      "execution_count": 9,
      "outputs": [
        {
          "output_type": "stream",
          "name": "stdout",
          "text": [
            "             mean  median  count_nonzero        std\n",
            "gender                                             \n",
            "        81.500000    81.5              2  30.405592\n",
            "0       63.223256    62.4             43   6.150874\n",
            "1       75.015152    73.9             33   4.629398\n"
          ]
        }
      ]
    },
    {
      "cell_type": "code",
      "source": [
        "diet1 = mydata[mydata[\"Diet\"] == 1]\n",
        "diet2 = mydata[mydata[\"Diet\"] == 2]\n",
        "diet3 = mydata[mydata[\"Diet\"] == 3]"
      ],
      "metadata": {
        "id": "-JXB3s7kv4ue"
      },
      "execution_count": 10,
      "outputs": []
    },
    {
      "cell_type": "code",
      "source": [
        "weight_loss1 = diet1[\"pre.weight\"] - diet1[\"weight6weeks\"]\n",
        "weight_loss2 = diet2[\"pre.weight\"] - diet2[\"weight6weeks\"]\n",
        "weight_loss3 = diet3[\"pre.weight\"] - diet3[\"weight6weeks\"]"
      ],
      "metadata": {
        "id": "1lO-nYrDv8Nn"
      },
      "execution_count": 11,
      "outputs": []
    },
    {
      "cell_type": "code",
      "source": [
        "print(weight_loss1)\n"
      ],
      "metadata": {
        "colab": {
          "base_uri": "https://localhost:8080/"
        },
        "id": "Rg-O_fHDv_GF",
        "outputId": "e18da35a-b455-482f-c92d-9f84cc7bb3e2"
      },
      "execution_count": 12,
      "outputs": [
        {
          "output_type": "stream",
          "name": "stdout",
          "text": [
            "2     3.8\n",
            "3     6.0\n",
            "4     0.7\n",
            "5     2.9\n",
            "6     2.8\n",
            "7     2.0\n",
            "8     2.0\n",
            "9     8.5\n",
            "10    1.9\n",
            "11    3.1\n",
            "12    1.5\n",
            "13    3.0\n",
            "14    3.6\n",
            "15    0.9\n",
            "45   -0.6\n",
            "46    1.1\n",
            "47    4.5\n",
            "48    4.1\n",
            "49    9.0\n",
            "50    2.4\n",
            "51    3.9\n",
            "52    3.5\n",
            "53    5.1\n",
            "54    3.5\n",
            "dtype: float64\n"
          ]
        }
      ]
    },
    {
      "cell_type": "code",
      "source": [
        "print(weight_loss2)"
      ],
      "metadata": {
        "colab": {
          "base_uri": "https://localhost:8080/"
        },
        "id": "7b9xGwIJwBHh",
        "outputId": "f1337554-8734-4038-a138-ee45cc895019"
      },
      "execution_count": 13,
      "outputs": [
        {
          "output_type": "stream",
          "name": "stdout",
          "text": [
            "0     0.0\n",
            "1     0.0\n",
            "16   -2.1\n",
            "17    2.0\n",
            "18    1.7\n",
            "19    4.3\n",
            "20    7.0\n",
            "21    0.6\n",
            "22    2.7\n",
            "23    3.6\n",
            "24    3.0\n",
            "25    2.0\n",
            "26    4.2\n",
            "27    4.7\n",
            "28    3.3\n",
            "29   -0.5\n",
            "55    4.2\n",
            "56    2.4\n",
            "57    5.8\n",
            "58    3.5\n",
            "59    5.3\n",
            "60    1.7\n",
            "61    5.4\n",
            "62    6.1\n",
            "63    7.9\n",
            "64   -1.4\n",
            "65    4.3\n",
            "dtype: float64\n"
          ]
        }
      ]
    },
    {
      "cell_type": "code",
      "source": [
        "print(weight_loss3)"
      ],
      "metadata": {
        "colab": {
          "base_uri": "https://localhost:8080/"
        },
        "id": "GV2Ti9riwDTr",
        "outputId": "653c3235-8afb-437d-860e-e72c6357e82c"
      },
      "execution_count": 14,
      "outputs": [
        {
          "output_type": "stream",
          "name": "stdout",
          "text": [
            "30    7.0\n",
            "31    5.6\n",
            "32    3.4\n",
            "33    6.8\n",
            "34    7.8\n",
            "35    5.4\n",
            "36    6.8\n",
            "37    7.2\n",
            "38    7.0\n",
            "39    7.3\n",
            "40    0.9\n",
            "41    7.6\n",
            "42    4.1\n",
            "43    6.3\n",
            "44    5.0\n",
            "66    2.5\n",
            "67    0.9\n",
            "68    3.5\n",
            "69    0.5\n",
            "70    2.8\n",
            "71    8.6\n",
            "72    4.5\n",
            "73    2.8\n",
            "74    4.1\n",
            "75    5.3\n",
            "76    9.2\n",
            "77    6.1\n",
            "dtype: float64\n"
          ]
        }
      ]
    },
    {
      "cell_type": "code",
      "source": [
        "import scipy.stats as stats\n",
        "\n",
        "stats.f_oneway(weight_loss1, weight_loss2, weight_loss3)"
      ],
      "metadata": {
        "colab": {
          "base_uri": "https://localhost:8080/"
        },
        "id": "iCq9dIjYwEqZ",
        "outputId": "3416dad7-413f-49b6-dae6-6f4f42c6e85a"
      },
      "execution_count": 15,
      "outputs": [
        {
          "output_type": "execute_result",
          "data": {
            "text/plain": [
              "F_onewayResult(statistic=6.197447453165349, pvalue=0.0032290142385893524)"
            ]
          },
          "metadata": {},
          "execution_count": 15
        }
      ]
    },
    {
      "cell_type": "code",
      "source": [
        "# Xây dựng DataFrame\n",
        "\n",
        "mydata =pd.DataFrame({\n",
        "    \"weight_loss1\": weight_loss1,\n",
        "    \"weight_loss2\": weight_loss2,\n",
        "    \"weight_loss3\": weight_loss3\n",
        "})\n",
        "print(mydata)"
      ],
      "metadata": {
        "colab": {
          "base_uri": "https://localhost:8080/"
        },
        "id": "RrLQRfOcwJyh",
        "outputId": "fe5325dd-a3ec-4bd2-c6bf-e0c12ba49146"
      },
      "execution_count": 16,
      "outputs": [
        {
          "output_type": "stream",
          "name": "stdout",
          "text": [
            "    weight_loss1  weight_loss2  weight_loss3\n",
            "0            NaN           0.0           NaN\n",
            "1            NaN           0.0           NaN\n",
            "2            3.8           NaN           NaN\n",
            "3            6.0           NaN           NaN\n",
            "4            0.7           NaN           NaN\n",
            "..           ...           ...           ...\n",
            "73           NaN           NaN           2.8\n",
            "74           NaN           NaN           4.1\n",
            "75           NaN           NaN           5.3\n",
            "76           NaN           NaN           9.2\n",
            "77           NaN           NaN           6.1\n",
            "\n",
            "[78 rows x 3 columns]\n"
          ]
        }
      ]
    },
    {
      "cell_type": "code",
      "source": [
        "list_non_na = [list(mydata[\"weight_loss1\"].dropna()),\n",
        "               list(mydata[\"weight_loss2\"].dropna()),\n",
        "               list(mydata[\"weight_loss3\"].dropna())]\n",
        "               "
      ],
      "metadata": {
        "id": "6aUPfLbCwNLS"
      },
      "execution_count": 17,
      "outputs": []
    },
    {
      "cell_type": "code",
      "source": [
        "for i in range(3):\n",
        "  p_value = stats.shapiro(list_non_na[i])[1]\n",
        "  print(f\"P_value của cột thứ {i+1}: {p_value}\")\n",
        "  if p_value < 0.05:\n",
        "    print(f\"Có bằng chứng cho thấy nhóm weight loss {i+1} không tuân theo phân phối chuẩn\")\n",
        "  else:\n",
        "    print(f\"Không có bằng chứng cho thấy nhóm weight loss {i+1} không tuân theo phân phối chuẩn\")"
      ],
      "metadata": {
        "colab": {
          "base_uri": "https://localhost:8080/"
        },
        "id": "IJliJQIhwO0e",
        "outputId": "f01b5f9a-fb30-4384-8bf7-6bdc76e48a45"
      },
      "execution_count": 18,
      "outputs": [
        {
          "output_type": "stream",
          "name": "stdout",
          "text": [
            "P_value của cột thứ 1: 0.07748671621084213\n",
            "Không có bằng chứng cho thấy nhóm weight loss 1 không tuân theo phân phối chuẩn\n",
            "P_value của cột thứ 2: 0.961176335811615\n",
            "Không có bằng chứng cho thấy nhóm weight loss 2 không tuân theo phân phối chuẩn\n",
            "P_value của cột thứ 3: 0.37203603982925415\n",
            "Không có bằng chứng cho thấy nhóm weight loss 3 không tuân theo phân phối chuẩn\n"
          ]
        }
      ]
    },
    {
      "cell_type": "code",
      "source": [
        ""
      ],
      "metadata": {
        "id": "m4elVXgmwRza"
      },
      "execution_count": null,
      "outputs": []
    },
    {
      "cell_type": "markdown",
      "source": [
        "\n",
        "**Tiến hành kiểm định phương sai của các nhóm có sự khác biệt**\n",
        "\n",
        "Xây dựng giả thuyết với mức ý nghĩa 0.05:\n",
        " - Giả thuyết null:\n",
        "\n",
        " $H_0$: Các nhóm có phương sai giống nhau \n",
        " - Giả thuyết thay thế:\n",
        " \n",
        " $H_a$: Các nhóm có phương sai không giống nhau "
      ],
      "metadata": {
        "id": "-34FDHiHwTpi"
      }
    },
    {
      "cell_type": "code",
      "source": [
        "stats, p_value = st.bartlett(weight_loss1, weight_loss2, weight_loss3)\n",
        "print(\"p_value:\",p_value)\n",
        "if p_value < 0.05:\n",
        "  print(\"Có bằng chứng bác bỏ  giả thuyết H0\")\n",
        "else:\n",
        "  print(\"Không có bằng chứng bác bỏ  giả thuyết H0\")"
      ],
      "metadata": {
        "colab": {
          "base_uri": "https://localhost:8080/"
        },
        "id": "chE09xA1wUbX",
        "outputId": "f52b1f2b-ce8c-470f-cb02-83b6b619a162"
      },
      "execution_count": 19,
      "outputs": [
        {
          "output_type": "stream",
          "name": "stdout",
          "text": [
            "p_value: 0.8447392194944549\n",
            "Không có bằng chứng bác bỏ  giả thuyết H0\n"
          ]
        }
      ]
    },
    {
      "cell_type": "markdown",
      "source": [
        "Sau khi thực hiện kiểm định ANOVA ta kết luận được 3 chế độ ăn kiêng có sự khác biệt.\n",
        "\n",
        "Bây giờ, ta chỉ cần dự trên sự biến đổi của trọng lượng trung bình của từng chế độ ăn kiêng để kết luận chế độ nào hiệu quả nhất."
      ],
      "metadata": {
        "id": "1m1jq9NZwZA-"
      }
    },
    {
      "cell_type": "code",
      "source": [
        "#Bảng dữ liệu\n",
        "mean= [weight_loss1.mean(), weight_loss2.mean(), weight_loss3.mean()]\n",
        "mode = ['1', '2', '3']\n",
        "table = list(zip(mode, mean))\n",
        "table = pd.DataFrame(table)\n",
        "table.columns = ['Diet','Mean']\n",
        "table"
      ],
      "metadata": {
        "colab": {
          "base_uri": "https://localhost:8080/",
          "height": 143
        },
        "id": "y9R1NQaqwZvl",
        "outputId": "d038a0a1-54e4-47c9-fd19-18ea1701f95b"
      },
      "execution_count": 20,
      "outputs": [
        {
          "output_type": "execute_result",
          "data": {
            "text/plain": [
              "  Diet      Mean\n",
              "0    1  3.300000\n",
              "1    2  3.025926\n",
              "2    3  5.148148"
            ],
            "text/html": [
              "\n",
              "  <div id=\"df-c5275d60-86d5-4b22-b81b-5a15074850f0\">\n",
              "    <div class=\"colab-df-container\">\n",
              "      <div>\n",
              "<style scoped>\n",
              "    .dataframe tbody tr th:only-of-type {\n",
              "        vertical-align: middle;\n",
              "    }\n",
              "\n",
              "    .dataframe tbody tr th {\n",
              "        vertical-align: top;\n",
              "    }\n",
              "\n",
              "    .dataframe thead th {\n",
              "        text-align: right;\n",
              "    }\n",
              "</style>\n",
              "<table border=\"1\" class=\"dataframe\">\n",
              "  <thead>\n",
              "    <tr style=\"text-align: right;\">\n",
              "      <th></th>\n",
              "      <th>Diet</th>\n",
              "      <th>Mean</th>\n",
              "    </tr>\n",
              "  </thead>\n",
              "  <tbody>\n",
              "    <tr>\n",
              "      <th>0</th>\n",
              "      <td>1</td>\n",
              "      <td>3.300000</td>\n",
              "    </tr>\n",
              "    <tr>\n",
              "      <th>1</th>\n",
              "      <td>2</td>\n",
              "      <td>3.025926</td>\n",
              "    </tr>\n",
              "    <tr>\n",
              "      <th>2</th>\n",
              "      <td>3</td>\n",
              "      <td>5.148148</td>\n",
              "    </tr>\n",
              "  </tbody>\n",
              "</table>\n",
              "</div>\n",
              "      <button class=\"colab-df-convert\" onclick=\"convertToInteractive('df-c5275d60-86d5-4b22-b81b-5a15074850f0')\"\n",
              "              title=\"Convert this dataframe to an interactive table.\"\n",
              "              style=\"display:none;\">\n",
              "        \n",
              "  <svg xmlns=\"http://www.w3.org/2000/svg\" height=\"24px\"viewBox=\"0 0 24 24\"\n",
              "       width=\"24px\">\n",
              "    <path d=\"M0 0h24v24H0V0z\" fill=\"none\"/>\n",
              "    <path d=\"M18.56 5.44l.94 2.06.94-2.06 2.06-.94-2.06-.94-.94-2.06-.94 2.06-2.06.94zm-11 1L8.5 8.5l.94-2.06 2.06-.94-2.06-.94L8.5 2.5l-.94 2.06-2.06.94zm10 10l.94 2.06.94-2.06 2.06-.94-2.06-.94-.94-2.06-.94 2.06-2.06.94z\"/><path d=\"M17.41 7.96l-1.37-1.37c-.4-.4-.92-.59-1.43-.59-.52 0-1.04.2-1.43.59L10.3 9.45l-7.72 7.72c-.78.78-.78 2.05 0 2.83L4 21.41c.39.39.9.59 1.41.59.51 0 1.02-.2 1.41-.59l7.78-7.78 2.81-2.81c.8-.78.8-2.07 0-2.86zM5.41 20L4 18.59l7.72-7.72 1.47 1.35L5.41 20z\"/>\n",
              "  </svg>\n",
              "      </button>\n",
              "      \n",
              "  <style>\n",
              "    .colab-df-container {\n",
              "      display:flex;\n",
              "      flex-wrap:wrap;\n",
              "      gap: 12px;\n",
              "    }\n",
              "\n",
              "    .colab-df-convert {\n",
              "      background-color: #E8F0FE;\n",
              "      border: none;\n",
              "      border-radius: 50%;\n",
              "      cursor: pointer;\n",
              "      display: none;\n",
              "      fill: #1967D2;\n",
              "      height: 32px;\n",
              "      padding: 0 0 0 0;\n",
              "      width: 32px;\n",
              "    }\n",
              "\n",
              "    .colab-df-convert:hover {\n",
              "      background-color: #E2EBFA;\n",
              "      box-shadow: 0px 1px 2px rgba(60, 64, 67, 0.3), 0px 1px 3px 1px rgba(60, 64, 67, 0.15);\n",
              "      fill: #174EA6;\n",
              "    }\n",
              "\n",
              "    [theme=dark] .colab-df-convert {\n",
              "      background-color: #3B4455;\n",
              "      fill: #D2E3FC;\n",
              "    }\n",
              "\n",
              "    [theme=dark] .colab-df-convert:hover {\n",
              "      background-color: #434B5C;\n",
              "      box-shadow: 0px 1px 3px 1px rgba(0, 0, 0, 0.15);\n",
              "      filter: drop-shadow(0px 1px 2px rgba(0, 0, 0, 0.3));\n",
              "      fill: #FFFFFF;\n",
              "    }\n",
              "  </style>\n",
              "\n",
              "      <script>\n",
              "        const buttonEl =\n",
              "          document.querySelector('#df-c5275d60-86d5-4b22-b81b-5a15074850f0 button.colab-df-convert');\n",
              "        buttonEl.style.display =\n",
              "          google.colab.kernel.accessAllowed ? 'block' : 'none';\n",
              "\n",
              "        async function convertToInteractive(key) {\n",
              "          const element = document.querySelector('#df-c5275d60-86d5-4b22-b81b-5a15074850f0');\n",
              "          const dataTable =\n",
              "            await google.colab.kernel.invokeFunction('convertToInteractive',\n",
              "                                                     [key], {});\n",
              "          if (!dataTable) return;\n",
              "\n",
              "          const docLinkHtml = 'Like what you see? Visit the ' +\n",
              "            '<a target=\"_blank\" href=https://colab.research.google.com/notebooks/data_table.ipynb>data table notebook</a>'\n",
              "            + ' to learn more about interactive tables.';\n",
              "          element.innerHTML = '';\n",
              "          dataTable['output_type'] = 'display_data';\n",
              "          await google.colab.output.renderOutput(dataTable, element);\n",
              "          const docLink = document.createElement('div');\n",
              "          docLink.innerHTML = docLinkHtml;\n",
              "          element.appendChild(docLink);\n",
              "        }\n",
              "      </script>\n",
              "    </div>\n",
              "  </div>\n",
              "  "
            ]
          },
          "metadata": {},
          "execution_count": 20
        }
      ]
    },
    {
      "cell_type": "markdown",
      "source": [
        "- Từ dữ liệu của bảng trên, cho ta thấy chế độ ăn kiêng thứ 3 là chế độ ăn kiêng phù hợp nhất và có hiệu quả cao hơn chế độ ăn kiêng 1 và 2."
      ],
      "metadata": {
        "id": "oPzzSp6wwd8-"
      }
    },
    {
      "cell_type": "code",
      "source": [
        ""
      ],
      "metadata": {
        "id": "wE7mnTPpwfkW"
      },
      "execution_count": null,
      "outputs": []
    }
  ]
}